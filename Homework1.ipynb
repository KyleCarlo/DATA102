{
 "cells": [
  {
   "cell_type": "markdown",
   "metadata": {},
   "source": [
    "# DATA102 Homework 1: Web Scraping\n",
    "\n",
    "**Group Number**: 3\n",
    "**Members**:\n",
    "- Jose Maria Angelo Guerra\n",
    "- Kyle Carlo Lasala\n",
    "- Katrina Bianca Roco\n",
    "- Antonio Jose Maria Lorenzo\n",
    "- Josh Angelo Theodore Borro\n",
    "\n",
    "**Section**: S11\n",
    "\n",
    "**Instructor**: Mr. Jude Michael Teves"
   ]
  },
  {
   "cell_type": "markdown",
   "metadata": {},
   "source": [
    "### Import Libraries"
   ]
  },
  {
   "cell_type": "code",
   "execution_count": 5,
   "metadata": {},
   "outputs": [],
   "source": [
    "import requests\n",
    "import pandas as pd\n",
    "import time"
   ]
  },
  {
   "cell_type": "markdown",
   "metadata": {},
   "source": [
    "### Parse Using BeautifulSoup"
   ]
  },
  {
   "cell_type": "code",
   "execution_count": null,
   "metadata": {},
   "outputs": [],
   "source": [
    "from bs4 import BeautifulSoup\n",
    "page = \"https://itch.io/games\"\n",
    "#contact is my personal email\n",
    "headers = {\"User-Agent\": \"EducationalScraper/1.0 (contact: hinolancj@gmail.com)\"}\n",
    "\n",
    "# Disallowed paths based on itch.io/robots.txt\n",
    "disallowed_paths = [\"/embed/\", \"/embed-upload/\", \"/search\", \"/checkout/\", \"/game/download/\", \"/bundle/download/\", \"/register-for-purchase/\", \"/email-feedback/\"]\n",
    "\n",
    "# Function to check if URL is allowed\n",
    "def is_allowed(url):\n",
    "    for path in disallowed_paths:\n",
    "        if path in url:\n",
    "            return False\n",
    "    return True\n",
    "\n",
    "\n",
    "url = f\"{page}\"\n",
    "if is_allowed(url):\n",
    "    response = requests.get(url)\n",
    "    soup = BeautifulSoup(response.text, \"html.parser\")\n",
    "    print(soup.prettify())\n",
    "    time.sleep(2)\n",
    "else:\n",
    "    print(f\"Skipping disallowed URL: {url}\")"
   ]
  },
  {
   "cell_type": "markdown",
   "metadata": {},
   "source": [
    "### Setup Browser Automation"
   ]
  },
  {
   "cell_type": "code",
   "execution_count": null,
   "metadata": {},
   "outputs": [],
   "source": [
    "from selenium import webdriver\n",
    "from selenium.webdriver.common.keys import Keys\n",
    "from selenium.webdriver.common.by import By\n",
    "from selenium.webdriver.edge.service import Service #microsft edge, change to webdriver.chrome.service for chrome\n",
    "\n",
    "driver_path = \"C:/Users/Charles/Desktop/COLLEGE/DATA102/edgedriver_win64/msedgedriver.exe\" \n",
    "url = \"https://itch.io/games\" # edit me\n",
    "\n",
    "service = Service(driver_path)\n",
    "driver = webdriver.Edge(service=service)\n",
    "\n",
    "driver.get(url)\n",
    "print(driver.page_source)"
   ]
  },
  {
   "cell_type": "markdown",
   "metadata": {},
   "source": [
    "### Extracting the Data"
   ]
  },
  {
   "cell_type": "code",
   "execution_count": null,
   "metadata": {},
   "outputs": [],
   "source": [
    "#Test retrieval of game titles only\n",
    "game_titles = driver.find_elements(By.XPATH, \"//a[@class='title game_link']\")\n",
    "game_titles"
   ]
  },
  {
   "cell_type": "code",
   "execution_count": 35,
   "metadata": {},
   "outputs": [
    {
     "data": {
      "text/plain": [
       "'\"Voices Of The Void\" Pre-Alpha'"
      ]
     },
     "execution_count": 35,
     "metadata": {},
     "output_type": "execute_result"
    }
   ],
   "source": [
    "len(game_titles)\n",
    "game_titles[1].text"
   ]
  },
  {
   "cell_type": "markdown",
   "metadata": {},
   "source": [
    "data to extract (for now):\n",
    "1. game id (class=game_cell has_cover)\n",
    "2. game title (class=game_title)\n",
    "3. game text (class=game_text)\n",
    "4. author (class=game_author)\n",
    "5. platform (class=game_platform)\n",
    "6. genre (class=game_genre)\n",
    "\n",
    "-------------- need to click on the game to get the following data below--------------\n",
    "\n",
    "7. rating\n",
    "8. tags\n",
    "9. average session (time)\n",
    "10. inputs\n",
    "will add the extraction of the other elements and the auto scrolling later i got hungry"
   ]
  },
  {
   "cell_type": "markdown",
   "metadata": {},
   "source": [
    "### Loading the Data into the DataFrame"
   ]
  },
  {
   "cell_type": "markdown",
   "metadata": {},
   "source": [
    "### Exporting the DataFrame to CSV"
   ]
  }
 ],
 "metadata": {
  "kernelspec": {
   "display_name": "base",
   "language": "python",
   "name": "python3"
  },
  "language_info": {
   "codemirror_mode": {
    "name": "ipython",
    "version": 3
   },
   "file_extension": ".py",
   "mimetype": "text/x-python",
   "name": "python",
   "nbconvert_exporter": "python",
   "pygments_lexer": "ipython3",
   "version": "3.11.10"
  }
 },
 "nbformat": 4,
 "nbformat_minor": 2
}
