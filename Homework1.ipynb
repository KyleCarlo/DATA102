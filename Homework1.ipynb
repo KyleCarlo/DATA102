{
 "cells": [
  {
   "cell_type": "markdown",
   "metadata": {},
   "source": [
    "# DATA102 Homework 1: Web Scraping\n",
    "\n",
    "**Group Number**: 3\n",
    "**Members**:\n",
    "- Jose Maria Angelo Guerra\n",
    "- Kyle Carlo Lasala\n",
    "- Katrina Bianca Roco\n",
    "- Antonio Jose Maria Lorenzo\n",
    "- Josh Angelo Theodore Borro\n",
    "\n",
    "**Section**: S11\n",
    "\n",
    "**Instructor**: Mr. Jude Michael Teves"
   ]
  },
  {
   "cell_type": "markdown",
   "metadata": {},
   "source": [
    "### Import Libraries"
   ]
  },
  {
   "cell_type": "code",
   "execution_count": null,
   "metadata": {},
   "outputs": [],
   "source": [
    "import requests\n",
    "import pandas as pd"
   ]
  },
  {
   "cell_type": "markdown",
   "metadata": {},
   "source": [
    "### Setup Browser Automation"
   ]
  },
  {
   "cell_type": "code",
   "execution_count": null,
   "metadata": {},
   "outputs": [],
   "source": [
    "from selenium import webdriver\n",
    "from selenium.webdriver.common.keys import Keys\n",
    "from selenium.webdriver.common.by import By\n",
    "\n",
    "driver_path = \"\" # replace this with your own driver path\n",
    "url = \"\" # edit me\n",
    "\n",
    "cService = webdriver.ChromeService(executable_path=driver_path)\n",
    "driver = webdriver.Chrome(service = cService)\n",
    "\n",
    "driver.get(url)\n",
    "print(driver.page_source)"
   ]
  },
  {
   "cell_type": "markdown",
   "metadata": {},
   "source": [
    "### Extracting the Data"
   ]
  },
  {
   "cell_type": "markdown",
   "metadata": {},
   "source": [
    "### Loading the Data into the DataFrame"
   ]
  },
  {
   "cell_type": "markdown",
   "metadata": {},
   "source": [
    "### Exporting the DataFrame to CSV"
   ]
  }
 ],
 "metadata": {
  "kernelspec": {
   "display_name": "Python 3",
   "language": "python",
   "name": "python3"
  },
  "language_info": {
   "name": "python",
   "version": "3.12.6"
  }
 },
 "nbformat": 4,
 "nbformat_minor": 2
}
